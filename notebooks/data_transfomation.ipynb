{
 "cells": [
  {
   "cell_type": "code",
   "execution_count": 73,
   "metadata": {},
   "outputs": [],
   "source": [
    "import numpy as np \n",
    "import pandas as pd\n",
    "import matplotlib.pyplot as plt \n",
    "import seaborn as sns \n",
    "import sys\n",
    "from sklearn.pipeline import Pipeline\n",
    "from sklearn.preprocessing import StandardScaler, OneHotEncoder\n",
    "from sklearn.compose import ColumnTransformer\n",
    "from sklearn.pipeline import Pipeline\n",
    "from sklearn.impute import SimpleImputer\n",
    "from dataclasses import dataclass\n",
    "import os \n",
    "from sklearn.metrics import accuracy_score,f1_score,recall_score,precision_score,roc_auc_score,confusion_matrix\n",
    "from sklearn.model_selection import train_test_split\n"
   ]
  },
  {
   "cell_type": "code",
   "execution_count": 41,
   "metadata": {},
   "outputs": [],
   "source": [
    "df = pd.read_csv('../datasets/loan_approval_dataset.csv').head(1000)"
   ]
  },
  {
   "cell_type": "code",
   "execution_count": 42,
   "metadata": {},
   "outputs": [
    {
     "data": {
      "text/plain": [
       "Index(['Unnamed: 0', 'Id', 'Income', 'Age', 'Experience', 'Married/Single',\n",
       "       'House_Ownership', 'Car_Ownership', 'Profession', 'CITY', 'STATE',\n",
       "       'CURRENT_JOB_YRS', 'CURRENT_HOUSE_YRS', 'Risk_Flag'],\n",
       "      dtype='object')"
      ]
     },
     "execution_count": 42,
     "metadata": {},
     "output_type": "execute_result"
    }
   ],
   "source": [
    "df.columns"
   ]
  },
  {
   "cell_type": "code",
   "execution_count": 43,
   "metadata": {},
   "outputs": [
    {
     "data": {
      "text/html": [
       "<div>\n",
       "<style scoped>\n",
       "    .dataframe tbody tr th:only-of-type {\n",
       "        vertical-align: middle;\n",
       "    }\n",
       "\n",
       "    .dataframe tbody tr th {\n",
       "        vertical-align: top;\n",
       "    }\n",
       "\n",
       "    .dataframe thead th {\n",
       "        text-align: right;\n",
       "    }\n",
       "</style>\n",
       "<table border=\"1\" class=\"dataframe\">\n",
       "  <thead>\n",
       "    <tr style=\"text-align: right;\">\n",
       "      <th></th>\n",
       "      <th>Id</th>\n",
       "      <th>Income</th>\n",
       "      <th>Age</th>\n",
       "      <th>Experience</th>\n",
       "      <th>Married/Single</th>\n",
       "      <th>House_Ownership</th>\n",
       "      <th>Car_Ownership</th>\n",
       "      <th>Profession</th>\n",
       "      <th>CITY</th>\n",
       "      <th>STATE</th>\n",
       "      <th>CURRENT_JOB_YRS</th>\n",
       "      <th>CURRENT_HOUSE_YRS</th>\n",
       "      <th>Risk_Flag</th>\n",
       "    </tr>\n",
       "  </thead>\n",
       "  <tbody>\n",
       "    <tr>\n",
       "      <th>0</th>\n",
       "      <td>1</td>\n",
       "      <td>1303834</td>\n",
       "      <td>23</td>\n",
       "      <td>3</td>\n",
       "      <td>single</td>\n",
       "      <td>rented</td>\n",
       "      <td>no</td>\n",
       "      <td>Mechanical_engineer</td>\n",
       "      <td>Rewa</td>\n",
       "      <td>Madhya_Pradesh</td>\n",
       "      <td>3</td>\n",
       "      <td>13</td>\n",
       "      <td>0</td>\n",
       "    </tr>\n",
       "    <tr>\n",
       "      <th>1</th>\n",
       "      <td>2</td>\n",
       "      <td>7574516</td>\n",
       "      <td>40</td>\n",
       "      <td>10</td>\n",
       "      <td>single</td>\n",
       "      <td>rented</td>\n",
       "      <td>no</td>\n",
       "      <td>Software_Developer</td>\n",
       "      <td>Parbhani</td>\n",
       "      <td>Maharashtra</td>\n",
       "      <td>9</td>\n",
       "      <td>13</td>\n",
       "      <td>0</td>\n",
       "    </tr>\n",
       "    <tr>\n",
       "      <th>2</th>\n",
       "      <td>3</td>\n",
       "      <td>3991815</td>\n",
       "      <td>66</td>\n",
       "      <td>4</td>\n",
       "      <td>married</td>\n",
       "      <td>rented</td>\n",
       "      <td>no</td>\n",
       "      <td>Technical_writer</td>\n",
       "      <td>Alappuzha</td>\n",
       "      <td>Kerala</td>\n",
       "      <td>4</td>\n",
       "      <td>10</td>\n",
       "      <td>0</td>\n",
       "    </tr>\n",
       "    <tr>\n",
       "      <th>3</th>\n",
       "      <td>4</td>\n",
       "      <td>6256451</td>\n",
       "      <td>41</td>\n",
       "      <td>2</td>\n",
       "      <td>single</td>\n",
       "      <td>rented</td>\n",
       "      <td>yes</td>\n",
       "      <td>Software_Developer</td>\n",
       "      <td>Bhubaneswar</td>\n",
       "      <td>Odisha</td>\n",
       "      <td>2</td>\n",
       "      <td>12</td>\n",
       "      <td>1</td>\n",
       "    </tr>\n",
       "    <tr>\n",
       "      <th>4</th>\n",
       "      <td>5</td>\n",
       "      <td>5768871</td>\n",
       "      <td>47</td>\n",
       "      <td>11</td>\n",
       "      <td>single</td>\n",
       "      <td>rented</td>\n",
       "      <td>no</td>\n",
       "      <td>Civil_servant</td>\n",
       "      <td>Tiruchirappalli[10]</td>\n",
       "      <td>Tamil_Nadu</td>\n",
       "      <td>3</td>\n",
       "      <td>14</td>\n",
       "      <td>1</td>\n",
       "    </tr>\n",
       "    <tr>\n",
       "      <th>...</th>\n",
       "      <td>...</td>\n",
       "      <td>...</td>\n",
       "      <td>...</td>\n",
       "      <td>...</td>\n",
       "      <td>...</td>\n",
       "      <td>...</td>\n",
       "      <td>...</td>\n",
       "      <td>...</td>\n",
       "      <td>...</td>\n",
       "      <td>...</td>\n",
       "      <td>...</td>\n",
       "      <td>...</td>\n",
       "      <td>...</td>\n",
       "    </tr>\n",
       "    <tr>\n",
       "      <th>995</th>\n",
       "      <td>996</td>\n",
       "      <td>6907195</td>\n",
       "      <td>55</td>\n",
       "      <td>5</td>\n",
       "      <td>single</td>\n",
       "      <td>owned</td>\n",
       "      <td>no</td>\n",
       "      <td>Police_officer</td>\n",
       "      <td>Dharmavaram</td>\n",
       "      <td>Andhra_Pradesh</td>\n",
       "      <td>3</td>\n",
       "      <td>10</td>\n",
       "      <td>0</td>\n",
       "    </tr>\n",
       "    <tr>\n",
       "      <th>996</th>\n",
       "      <td>997</td>\n",
       "      <td>9253093</td>\n",
       "      <td>54</td>\n",
       "      <td>2</td>\n",
       "      <td>single</td>\n",
       "      <td>rented</td>\n",
       "      <td>yes</td>\n",
       "      <td>Secretary</td>\n",
       "      <td>Danapur</td>\n",
       "      <td>Bihar</td>\n",
       "      <td>2</td>\n",
       "      <td>12</td>\n",
       "      <td>1</td>\n",
       "    </tr>\n",
       "    <tr>\n",
       "      <th>997</th>\n",
       "      <td>998</td>\n",
       "      <td>9464966</td>\n",
       "      <td>67</td>\n",
       "      <td>14</td>\n",
       "      <td>single</td>\n",
       "      <td>norent_noown</td>\n",
       "      <td>yes</td>\n",
       "      <td>Statistician</td>\n",
       "      <td>Tiruppur</td>\n",
       "      <td>Tamil_Nadu</td>\n",
       "      <td>14</td>\n",
       "      <td>10</td>\n",
       "      <td>0</td>\n",
       "    </tr>\n",
       "    <tr>\n",
       "      <th>998</th>\n",
       "      <td>999</td>\n",
       "      <td>3346084</td>\n",
       "      <td>23</td>\n",
       "      <td>18</td>\n",
       "      <td>single</td>\n",
       "      <td>rented</td>\n",
       "      <td>no</td>\n",
       "      <td>Web_designer</td>\n",
       "      <td>Sambalpur</td>\n",
       "      <td>Odisha</td>\n",
       "      <td>6</td>\n",
       "      <td>13</td>\n",
       "      <td>0</td>\n",
       "    </tr>\n",
       "    <tr>\n",
       "      <th>999</th>\n",
       "      <td>1000</td>\n",
       "      <td>5472585</td>\n",
       "      <td>63</td>\n",
       "      <td>17</td>\n",
       "      <td>married</td>\n",
       "      <td>rented</td>\n",
       "      <td>no</td>\n",
       "      <td>Computer_operator</td>\n",
       "      <td>Ramagundam[27]</td>\n",
       "      <td>Telangana</td>\n",
       "      <td>6</td>\n",
       "      <td>11</td>\n",
       "      <td>0</td>\n",
       "    </tr>\n",
       "  </tbody>\n",
       "</table>\n",
       "<p>1000 rows × 13 columns</p>\n",
       "</div>"
      ],
      "text/plain": [
       "       Id   Income  Age  Experience Married/Single House_Ownership  \\\n",
       "0       1  1303834   23           3         single          rented   \n",
       "1       2  7574516   40          10         single          rented   \n",
       "2       3  3991815   66           4        married          rented   \n",
       "3       4  6256451   41           2         single          rented   \n",
       "4       5  5768871   47          11         single          rented   \n",
       "..    ...      ...  ...         ...            ...             ...   \n",
       "995   996  6907195   55           5         single           owned   \n",
       "996   997  9253093   54           2         single          rented   \n",
       "997   998  9464966   67          14         single    norent_noown   \n",
       "998   999  3346084   23          18         single          rented   \n",
       "999  1000  5472585   63          17        married          rented   \n",
       "\n",
       "    Car_Ownership           Profession                 CITY           STATE  \\\n",
       "0              no  Mechanical_engineer                 Rewa  Madhya_Pradesh   \n",
       "1              no   Software_Developer             Parbhani     Maharashtra   \n",
       "2              no     Technical_writer            Alappuzha          Kerala   \n",
       "3             yes   Software_Developer          Bhubaneswar          Odisha   \n",
       "4              no        Civil_servant  Tiruchirappalli[10]      Tamil_Nadu   \n",
       "..            ...                  ...                  ...             ...   \n",
       "995            no       Police_officer          Dharmavaram  Andhra_Pradesh   \n",
       "996           yes            Secretary              Danapur           Bihar   \n",
       "997           yes         Statistician             Tiruppur      Tamil_Nadu   \n",
       "998            no         Web_designer            Sambalpur          Odisha   \n",
       "999            no    Computer_operator       Ramagundam[27]       Telangana   \n",
       "\n",
       "     CURRENT_JOB_YRS  CURRENT_HOUSE_YRS  Risk_Flag  \n",
       "0                  3                 13          0  \n",
       "1                  9                 13          0  \n",
       "2                  4                 10          0  \n",
       "3                  2                 12          1  \n",
       "4                  3                 14          1  \n",
       "..               ...                ...        ...  \n",
       "995                3                 10          0  \n",
       "996                2                 12          1  \n",
       "997               14                 10          0  \n",
       "998                6                 13          0  \n",
       "999                6                 11          0  \n",
       "\n",
       "[1000 rows x 13 columns]"
      ]
     },
     "execution_count": 43,
     "metadata": {},
     "output_type": "execute_result"
    }
   ],
   "source": [
    "df.drop(columns=['Unnamed: 0'])"
   ]
  },
  {
   "cell_type": "code",
   "execution_count": 44,
   "metadata": {},
   "outputs": [],
   "source": [
    "X = df.drop(columns=['Unnamed: 0','Risk_Flag'])\n",
    "y=df['Risk_Flag']"
   ]
  },
  {
   "cell_type": "code",
   "execution_count": 45,
   "metadata": {},
   "outputs": [
    {
     "data": {
      "text/plain": [
       "(       Id   Income  Age  Experience Married/Single House_Ownership  \\\n",
       " 0       1  1303834   23           3         single          rented   \n",
       " 1       2  7574516   40          10         single          rented   \n",
       " 2       3  3991815   66           4        married          rented   \n",
       " 3       4  6256451   41           2         single          rented   \n",
       " 4       5  5768871   47          11         single          rented   \n",
       " ..    ...      ...  ...         ...            ...             ...   \n",
       " 995   996  6907195   55           5         single           owned   \n",
       " 996   997  9253093   54           2         single          rented   \n",
       " 997   998  9464966   67          14         single    norent_noown   \n",
       " 998   999  3346084   23          18         single          rented   \n",
       " 999  1000  5472585   63          17        married          rented   \n",
       " \n",
       "     Car_Ownership           Profession                 CITY           STATE  \\\n",
       " 0              no  Mechanical_engineer                 Rewa  Madhya_Pradesh   \n",
       " 1              no   Software_Developer             Parbhani     Maharashtra   \n",
       " 2              no     Technical_writer            Alappuzha          Kerala   \n",
       " 3             yes   Software_Developer          Bhubaneswar          Odisha   \n",
       " 4              no        Civil_servant  Tiruchirappalli[10]      Tamil_Nadu   \n",
       " ..            ...                  ...                  ...             ...   \n",
       " 995            no       Police_officer          Dharmavaram  Andhra_Pradesh   \n",
       " 996           yes            Secretary              Danapur           Bihar   \n",
       " 997           yes         Statistician             Tiruppur      Tamil_Nadu   \n",
       " 998            no         Web_designer            Sambalpur          Odisha   \n",
       " 999            no    Computer_operator       Ramagundam[27]       Telangana   \n",
       " \n",
       "      CURRENT_JOB_YRS  CURRENT_HOUSE_YRS  \n",
       " 0                  3                 13  \n",
       " 1                  9                 13  \n",
       " 2                  4                 10  \n",
       " 3                  2                 12  \n",
       " 4                  3                 14  \n",
       " ..               ...                ...  \n",
       " 995                3                 10  \n",
       " 996                2                 12  \n",
       " 997               14                 10  \n",
       " 998                6                 13  \n",
       " 999                6                 11  \n",
       " \n",
       " [1000 rows x 12 columns],\n",
       " 0      0\n",
       " 1      0\n",
       " 2      0\n",
       " 3      1\n",
       " 4      1\n",
       "       ..\n",
       " 995    0\n",
       " 996    1\n",
       " 997    0\n",
       " 998    0\n",
       " 999    0\n",
       " Name: Risk_Flag, Length: 1000, dtype: int64)"
      ]
     },
     "execution_count": 45,
     "metadata": {},
     "output_type": "execute_result"
    }
   ],
   "source": [
    "X,y"
   ]
  },
  {
   "cell_type": "code",
   "execution_count": 59,
   "metadata": {},
   "outputs": [],
   "source": [
    "@dataclass\n",
    "class DataTransformationConfig:\n",
    "    preprocessor_obj_path = os.path.join(\"artifacts\",\"preprocessor.pkl\")\n",
    "\n",
    "\n",
    "class DataTransformation:\n",
    "    def __init__(self):\n",
    "        self.data_transformation_config= DataTransformationConfig()\n",
    "\n",
    "    def get_data_transformer_object(self):\n",
    "        \"\"\"  This method is used to get the data transformation object i.e preprocessor object which is used to transform the data\"\"\"\n",
    "\n",
    "            # Wrap in a list to make it a row\n",
    "        numeric_features = ['Income', 'Age', 'Experience', 'CURRENT_JOB_YRS', 'CURRENT_HOUSE_YRS']\n",
    "    \n",
    "        categorical_features =  ['Married/Single', 'House_Ownership', 'Car_Ownership', 'Profession',\n",
    "    'CITY', 'STATE']\n",
    "        num_pipeline = Pipeline(\n",
    "            steps=[\n",
    "                ('imputer',SimpleImputer(strategy='median')),\n",
    "                ('scaler',StandardScaler())\n",
    "            ]\n",
    "        )\n",
    "        \n",
    "        cat_pipeline = Pipeline(\n",
    "            steps=[\n",
    "                ('imputer',SimpleImputer(strategy='most_frequent')),\n",
    "                ('onehot',OneHotEncoder(handle_unknown='ignore')),\n",
    "                ('scaler',StandardScaler(with_mean=False))\n",
    "            ]\n",
    "        )\n",
    "        preprocessor = ColumnTransformer(\n",
    "            [\n",
    "                ('num_pipeline',num_pipeline,numeric_features),\n",
    "                ('cat_pipeline',cat_pipeline,categorical_features)\n",
    "            ]\n",
    "        )\n",
    "        return preprocessor\n",
    "\n",
    "    def initiate_data_transformation(self,train_path,test_path):\n",
    "\n",
    "            train_df = pd.read_csv(train_path)\n",
    "            test_df = pd.read_csv(test_path)\n",
    "            preprocessor_obj = self.get_data_transformer_object()\n",
    "            target_column_name=\"Risk_Flag\"  \n",
    "            cat_features = ['Married/Single', 'House_Ownership', 'Car_Ownership', 'Profession',\n",
    "                'CITY', 'STATE']\n",
    "            num_features = ['Income', 'Age', 'Experience', 'CURRENT_JOB_YRS', 'CURRENT_HOUSE_YRS',]\n",
    "      \n",
    "            numeric_features =  num_features\n",
    "            categorical_features = cat_features\n",
    "            \n",
    "            input_feature_train_df = train_df.drop(columns=[target_column_name],axis=1)\n",
    "            target_feature_train_df = train_df[target_column_name]\n",
    "\n",
    "            input_feature_test_df = test_df.drop(columns=[target_column_name],axis=1)\n",
    "            target_feature_test_df = test_df[target_column_name]\n",
    "\n",
    "\n",
    "            input_feature_train_arr=preprocessor_obj.fit_transform(input_feature_train_df)\n",
    "            # input_feature_test_arr=preprocessor_obj.transform(input_feature_test_df)\n",
    "            input_feature_test_arr=preprocessor_obj.transform(input_feature_test_df)\n",
    "\n",
    "            # train_arr = np.c_[input_feature_train_arr,np.array(target_feature_train_df)]\n",
    "            # test_arr = np.c_[input_feature_test_arr,np.array(target_feature_test_df)]\n",
    "            print(\"Train transformed features shape:\", input_feature_train_arr.shape)\n",
    "            print(\"Train target shape:\", np.array(target_feature_train_df).shape)\n",
    "            print(\"Test transformed features shape:\", input_feature_test_arr.shape)\n",
    "            print(\"Test target shape:\", np.array(target_feature_test_df).shape)\n",
    "\n",
    "\n",
    "            train_arr = np.c_[input_feature_train_arr, np.array(target_feature_train_df).reshape(-1, 1)]\n",
    "            test_arr = np.c_[input_feature_test_arr, np.array(target_feature_test_df).reshape(-1, 1)]\n",
    "\n",
    "\n",
    "\n",
    "            return (train_arr,\n",
    "                    test_arr,\n",
    "                    self.data_transformation_config.preprocessor_obj_path)\n"
   ]
  },
  {
   "cell_type": "code",
   "execution_count": 60,
   "metadata": {},
   "outputs": [],
   "source": [
    "numeric_features = ['Income', 'Age', 'Experience', 'CURRENT_JOB_YRS', 'CURRENT_HOUSE_YRS']\n",
    "\n",
    "categorical_features =  ['Married/Single', 'House_Ownership', 'Car_Ownership', 'Profession',\n",
    "'CITY', 'STATE']\n",
    "num_pipeline = Pipeline(\n",
    "    steps=[\n",
    "        ('imputer',SimpleImputer(strategy='median')),\n",
    "        ('scaler',StandardScaler())\n",
    "    ]\n",
    ")\n",
    "\n",
    "cat_pipeline = Pipeline(\n",
    "    steps=[\n",
    "        ('imputer',SimpleImputer(strategy='most_frequent')),\n",
    "        ('onehot',OneHotEncoder(handle_unknown='ignore')),\n",
    "        ('scaler',StandardScaler(with_mean=False))\n",
    "    ]\n",
    ")\n",
    "\n",
    "preprocessor = ColumnTransformer(\n",
    "    [\n",
    "        ('num_pipeline',num_pipeline,numeric_features),\n",
    "        ('cat_pipeline',cat_pipeline,categorical_features)\n",
    "    ]\n",
    ")"
   ]
  },
  {
   "cell_type": "code",
   "execution_count": 71,
   "metadata": {},
   "outputs": [],
   "source": [
    "import pickle\n",
    "with open('preprocessor.pkl','wb') as file:\n",
    "    pickle.dump(preprocessor,file)\n",
    "with open('preprocessor.pkl','rb') as file:\n",
    "    loaded_preprocessor = pickle.load(file)"
   ]
  },
  {
   "cell_type": "code",
   "execution_count": 61,
   "metadata": {},
   "outputs": [],
   "source": [
    "X_transform = preprocessor.fit_transform(X)"
   ]
  },
  {
   "cell_type": "code",
   "execution_count": 72,
   "metadata": {},
   "outputs": [
    {
     "data": {
      "text/plain": [
       "<1000x399 sparse matrix of type '<class 'numpy.float64'>'\n",
       "\twith 11000 stored elements in Compressed Sparse Row format>"
      ]
     },
     "execution_count": 72,
     "metadata": {},
     "output_type": "execute_result"
    }
   ],
   "source": [
    "loaded_preprocessor.transform(X)"
   ]
  },
  {
   "cell_type": "code",
   "execution_count": 49,
   "metadata": {},
   "outputs": [
    {
     "data": {
      "text/plain": [
       "<1000x399 sparse matrix of type '<class 'numpy.float64'>'\n",
       "\twith 11000 stored elements in Compressed Sparse Row format>"
      ]
     },
     "execution_count": 49,
     "metadata": {},
     "output_type": "execute_result"
    }
   ],
   "source": [
    "X_transform"
   ]
  },
  {
   "cell_type": "code",
   "execution_count": 50,
   "metadata": {},
   "outputs": [
    {
     "data": {
      "text/plain": [
       "(1000, 12)"
      ]
     },
     "execution_count": 50,
     "metadata": {},
     "output_type": "execute_result"
    }
   ],
   "source": [
    "X.shape"
   ]
  },
  {
   "cell_type": "code",
   "execution_count": 75,
   "metadata": {},
   "outputs": [
    {
     "data": {
      "text/plain": [
       "((800, 14), (200, 14))"
      ]
     },
     "execution_count": 75,
     "metadata": {},
     "output_type": "execute_result"
    }
   ],
   "source": [
    "train_df, test_df = train_test_split(df, test_size=0.2, random_state=42)\n",
    "train_df.shape,test_df.shape"
   ]
  },
  {
   "cell_type": "code",
   "execution_count": 76,
   "metadata": {},
   "outputs": [],
   "source": [
    "target_column_name=\"Risk_Flag\"  \n",
    "input_feature_train_df = train_df.drop(columns=[target_column_name],axis=1)\n",
    "target_feature_train_df = train_df[target_column_name]\n",
    "\n",
    "input_feature_test_df = test_df.drop(columns=[target_column_name],axis=1)\n",
    "target_feature_test_df = test_df[target_column_name]"
   ]
  },
  {
   "cell_type": "code",
   "execution_count": 80,
   "metadata": {},
   "outputs": [
    {
     "data": {
      "text/plain": [
       "((200, 13), (200,))"
      ]
     },
     "execution_count": 80,
     "metadata": {},
     "output_type": "execute_result"
    }
   ],
   "source": [
    "input_feature_test_df.shape,target_feature_test_df.shape"
   ]
  },
  {
   "cell_type": "code",
   "execution_count": 82,
   "metadata": {},
   "outputs": [
    {
     "data": {
      "text/plain": [
       "((800, 13), (800,))"
      ]
     },
     "execution_count": 82,
     "metadata": {},
     "output_type": "execute_result"
    }
   ],
   "source": [
    "input_feature_train_df.shape,target_feature_train_df.shape"
   ]
  },
  {
   "cell_type": "code",
   "execution_count": 87,
   "metadata": {},
   "outputs": [
    {
     "data": {
      "text/html": [
       "<div>\n",
       "<style scoped>\n",
       "    .dataframe tbody tr th:only-of-type {\n",
       "        vertical-align: middle;\n",
       "    }\n",
       "\n",
       "    .dataframe tbody tr th {\n",
       "        vertical-align: top;\n",
       "    }\n",
       "\n",
       "    .dataframe thead th {\n",
       "        text-align: right;\n",
       "    }\n",
       "</style>\n",
       "<table border=\"1\" class=\"dataframe\">\n",
       "  <thead>\n",
       "    <tr style=\"text-align: right;\">\n",
       "      <th></th>\n",
       "      <th>Unnamed: 0</th>\n",
       "      <th>Id</th>\n",
       "      <th>Income</th>\n",
       "      <th>Age</th>\n",
       "      <th>Experience</th>\n",
       "      <th>Married/Single</th>\n",
       "      <th>House_Ownership</th>\n",
       "      <th>Car_Ownership</th>\n",
       "      <th>Profession</th>\n",
       "      <th>CITY</th>\n",
       "      <th>STATE</th>\n",
       "      <th>CURRENT_JOB_YRS</th>\n",
       "      <th>CURRENT_HOUSE_YRS</th>\n",
       "    </tr>\n",
       "  </thead>\n",
       "  <tbody>\n",
       "    <tr>\n",
       "      <th>29</th>\n",
       "      <td>29</td>\n",
       "      <td>30</td>\n",
       "      <td>4386333</td>\n",
       "      <td>31</td>\n",
       "      <td>16</td>\n",
       "      <td>single</td>\n",
       "      <td>rented</td>\n",
       "      <td>no</td>\n",
       "      <td>Physician</td>\n",
       "      <td>Shimoga</td>\n",
       "      <td>Karnataka</td>\n",
       "      <td>3</td>\n",
       "      <td>12</td>\n",
       "    </tr>\n",
       "    <tr>\n",
       "      <th>535</th>\n",
       "      <td>535</td>\n",
       "      <td>536</td>\n",
       "      <td>1171901</td>\n",
       "      <td>57</td>\n",
       "      <td>10</td>\n",
       "      <td>single</td>\n",
       "      <td>norent_noown</td>\n",
       "      <td>yes</td>\n",
       "      <td>Financial_Analyst</td>\n",
       "      <td>Buxar[37]</td>\n",
       "      <td>Bihar</td>\n",
       "      <td>9</td>\n",
       "      <td>12</td>\n",
       "    </tr>\n",
       "    <tr>\n",
       "      <th>695</th>\n",
       "      <td>695</td>\n",
       "      <td>696</td>\n",
       "      <td>1512050</td>\n",
       "      <td>70</td>\n",
       "      <td>7</td>\n",
       "      <td>single</td>\n",
       "      <td>rented</td>\n",
       "      <td>no</td>\n",
       "      <td>Librarian</td>\n",
       "      <td>Sasaram[30]</td>\n",
       "      <td>Bihar</td>\n",
       "      <td>7</td>\n",
       "      <td>14</td>\n",
       "    </tr>\n",
       "    <tr>\n",
       "      <th>557</th>\n",
       "      <td>557</td>\n",
       "      <td>558</td>\n",
       "      <td>9148621</td>\n",
       "      <td>43</td>\n",
       "      <td>9</td>\n",
       "      <td>single</td>\n",
       "      <td>rented</td>\n",
       "      <td>no</td>\n",
       "      <td>Police_officer</td>\n",
       "      <td>Bilaspur</td>\n",
       "      <td>Chhattisgarh</td>\n",
       "      <td>3</td>\n",
       "      <td>12</td>\n",
       "    </tr>\n",
       "    <tr>\n",
       "      <th>836</th>\n",
       "      <td>836</td>\n",
       "      <td>837</td>\n",
       "      <td>5272729</td>\n",
       "      <td>28</td>\n",
       "      <td>17</td>\n",
       "      <td>single</td>\n",
       "      <td>rented</td>\n",
       "      <td>no</td>\n",
       "      <td>Computer_operator</td>\n",
       "      <td>Guwahati</td>\n",
       "      <td>Assam</td>\n",
       "      <td>12</td>\n",
       "      <td>10</td>\n",
       "    </tr>\n",
       "    <tr>\n",
       "      <th>...</th>\n",
       "      <td>...</td>\n",
       "      <td>...</td>\n",
       "      <td>...</td>\n",
       "      <td>...</td>\n",
       "      <td>...</td>\n",
       "      <td>...</td>\n",
       "      <td>...</td>\n",
       "      <td>...</td>\n",
       "      <td>...</td>\n",
       "      <td>...</td>\n",
       "      <td>...</td>\n",
       "      <td>...</td>\n",
       "      <td>...</td>\n",
       "    </tr>\n",
       "    <tr>\n",
       "      <th>106</th>\n",
       "      <td>106</td>\n",
       "      <td>107</td>\n",
       "      <td>5165629</td>\n",
       "      <td>61</td>\n",
       "      <td>0</td>\n",
       "      <td>single</td>\n",
       "      <td>rented</td>\n",
       "      <td>no</td>\n",
       "      <td>Aviator</td>\n",
       "      <td>North_Dumdum</td>\n",
       "      <td>West_Bengal</td>\n",
       "      <td>0</td>\n",
       "      <td>12</td>\n",
       "    </tr>\n",
       "    <tr>\n",
       "      <th>270</th>\n",
       "      <td>270</td>\n",
       "      <td>271</td>\n",
       "      <td>2452563</td>\n",
       "      <td>75</td>\n",
       "      <td>3</td>\n",
       "      <td>single</td>\n",
       "      <td>rented</td>\n",
       "      <td>no</td>\n",
       "      <td>Hotel_Manager</td>\n",
       "      <td>Kulti</td>\n",
       "      <td>West_Bengal</td>\n",
       "      <td>3</td>\n",
       "      <td>12</td>\n",
       "    </tr>\n",
       "    <tr>\n",
       "      <th>860</th>\n",
       "      <td>860</td>\n",
       "      <td>861</td>\n",
       "      <td>4505937</td>\n",
       "      <td>52</td>\n",
       "      <td>6</td>\n",
       "      <td>single</td>\n",
       "      <td>rented</td>\n",
       "      <td>no</td>\n",
       "      <td>Petroleum_Engineer</td>\n",
       "      <td>Mangalore</td>\n",
       "      <td>Karnataka</td>\n",
       "      <td>6</td>\n",
       "      <td>14</td>\n",
       "    </tr>\n",
       "    <tr>\n",
       "      <th>435</th>\n",
       "      <td>435</td>\n",
       "      <td>436</td>\n",
       "      <td>8491491</td>\n",
       "      <td>61</td>\n",
       "      <td>20</td>\n",
       "      <td>single</td>\n",
       "      <td>rented</td>\n",
       "      <td>no</td>\n",
       "      <td>Comedian</td>\n",
       "      <td>Haldia</td>\n",
       "      <td>West_Bengal</td>\n",
       "      <td>8</td>\n",
       "      <td>11</td>\n",
       "    </tr>\n",
       "    <tr>\n",
       "      <th>102</th>\n",
       "      <td>102</td>\n",
       "      <td>103</td>\n",
       "      <td>4417164</td>\n",
       "      <td>42</td>\n",
       "      <td>12</td>\n",
       "      <td>single</td>\n",
       "      <td>rented</td>\n",
       "      <td>no</td>\n",
       "      <td>Web_designer</td>\n",
       "      <td>Vellore</td>\n",
       "      <td>Tamil_Nadu</td>\n",
       "      <td>8</td>\n",
       "      <td>14</td>\n",
       "    </tr>\n",
       "  </tbody>\n",
       "</table>\n",
       "<p>800 rows × 13 columns</p>\n",
       "</div>"
      ],
      "text/plain": [
       "     Unnamed: 0   Id   Income  Age  Experience Married/Single House_Ownership  \\\n",
       "29           29   30  4386333   31          16         single          rented   \n",
       "535         535  536  1171901   57          10         single    norent_noown   \n",
       "695         695  696  1512050   70           7         single          rented   \n",
       "557         557  558  9148621   43           9         single          rented   \n",
       "836         836  837  5272729   28          17         single          rented   \n",
       "..          ...  ...      ...  ...         ...            ...             ...   \n",
       "106         106  107  5165629   61           0         single          rented   \n",
       "270         270  271  2452563   75           3         single          rented   \n",
       "860         860  861  4505937   52           6         single          rented   \n",
       "435         435  436  8491491   61          20         single          rented   \n",
       "102         102  103  4417164   42          12         single          rented   \n",
       "\n",
       "    Car_Ownership          Profession          CITY         STATE  \\\n",
       "29             no           Physician       Shimoga     Karnataka   \n",
       "535           yes   Financial_Analyst     Buxar[37]         Bihar   \n",
       "695            no           Librarian   Sasaram[30]         Bihar   \n",
       "557            no      Police_officer      Bilaspur  Chhattisgarh   \n",
       "836            no   Computer_operator      Guwahati         Assam   \n",
       "..            ...                 ...           ...           ...   \n",
       "106            no             Aviator  North_Dumdum   West_Bengal   \n",
       "270            no       Hotel_Manager         Kulti   West_Bengal   \n",
       "860            no  Petroleum_Engineer     Mangalore     Karnataka   \n",
       "435            no            Comedian        Haldia   West_Bengal   \n",
       "102            no        Web_designer       Vellore    Tamil_Nadu   \n",
       "\n",
       "     CURRENT_JOB_YRS  CURRENT_HOUSE_YRS  \n",
       "29                 3                 12  \n",
       "535                9                 12  \n",
       "695                7                 14  \n",
       "557                3                 12  \n",
       "836               12                 10  \n",
       "..               ...                ...  \n",
       "106                0                 12  \n",
       "270                3                 12  \n",
       "860                6                 14  \n",
       "435                8                 11  \n",
       "102                8                 14  \n",
       "\n",
       "[800 rows x 13 columns]"
      ]
     },
     "execution_count": 87,
     "metadata": {},
     "output_type": "execute_result"
    }
   ],
   "source": [
    "input_feature_train_df"
   ]
  },
  {
   "cell_type": "code",
   "execution_count": 92,
   "metadata": {},
   "outputs": [
    {
     "data": {
      "text/plain": [
       "((800, 399), (200, 399), (800,), (200,))"
      ]
     },
     "execution_count": 92,
     "metadata": {},
     "output_type": "execute_result"
    }
   ],
   "source": [
    "# separate dataset into train and test\n",
    "from sklearn.model_selection import train_test_split\n",
    "X_train, X_test, y_train, y_test = train_test_split(X_transform,y,test_size=0.2,random_state=42)\n",
    "X_train.shape, X_test.shape,y_train.shape,y_test.shape"
   ]
  },
  {
   "cell_type": "code",
   "execution_count": 86,
   "metadata": {},
   "outputs": [
    {
     "data": {
      "text/plain": [
       "<800x399 sparse matrix of type '<class 'numpy.float64'>'\n",
       "\twith 8800 stored elements in Compressed Sparse Row format>"
      ]
     },
     "execution_count": 86,
     "metadata": {},
     "output_type": "execute_result"
    }
   ],
   "source": [
    "X_train"
   ]
  },
  {
   "cell_type": "code",
   "execution_count": 55,
   "metadata": {},
   "outputs": [],
   "source": [
    "from sklearn.tree import DecisionTreeClassifier"
   ]
  },
  {
   "cell_type": "code",
   "execution_count": 93,
   "metadata": {},
   "outputs": [],
   "source": [
    "ds = DecisionTreeClassifier()\n",
    "ds.fit(X_train,y_train)\n",
    "predictions=ds.predict(X_test)"
   ]
  },
  {
   "cell_type": "code",
   "execution_count": 57,
   "metadata": {},
   "outputs": [
    {
     "data": {
      "text/plain": [
       "array([0, 1, 0, 1, 1, 0, 0, 0, 1, 0, 0, 0, 1, 1, 0, 0, 0, 0, 0, 0, 1, 1,\n",
       "       1, 0, 0, 0, 0, 0, 0, 0, 0, 0, 0, 0, 0, 0, 0, 0, 0, 0, 0, 0, 0, 0,\n",
       "       0, 0, 0, 0, 0, 0, 0, 0, 0, 0, 1, 0, 0, 0, 0, 1, 1, 0, 0, 0, 1, 0,\n",
       "       0, 0, 0, 0, 0, 0, 0, 0, 0, 0, 0, 0, 0, 0, 0, 0, 0, 0, 1, 1, 0, 1,\n",
       "       0, 1, 0, 0, 0, 0, 0, 0, 0, 0, 0, 1, 0, 0, 1, 1, 0, 1, 1, 0, 0, 0,\n",
       "       1, 0, 0, 0, 0, 0, 0, 0, 1, 0, 0, 0, 0, 0, 0, 0, 0, 0, 0, 0, 0, 0,\n",
       "       0, 0, 1, 0, 1, 0, 0, 0, 0, 1, 0, 0, 0, 0, 0, 0, 0, 0, 0, 0, 0, 0,\n",
       "       0, 0, 0, 0, 0, 0, 1, 0, 0, 0, 0, 0, 1, 0, 0, 0, 0, 0, 0, 0, 0, 0,\n",
       "       0, 0, 1, 1, 0, 0, 1, 1, 0, 0, 0, 0, 0, 0, 0, 0, 1, 0, 0, 0, 0, 1,\n",
       "       0, 0], dtype=int64)"
      ]
     },
     "execution_count": 57,
     "metadata": {},
     "output_type": "execute_result"
    }
   ],
   "source": [
    "predictions"
   ]
  },
  {
   "cell_type": "code",
   "execution_count": 63,
   "metadata": {},
   "outputs": [
    {
     "name": "stdout",
     "output_type": "stream",
     "text": [
      "0.74\n",
      "0.21212121212121213\n",
      "0.22580645161290322\n",
      "0.2\n",
      "[[141  28]\n",
      " [ 24   7]]\n"
     ]
    }
   ],
   "source": [
    "print(accuracy_score(y_test,predictions))\n",
    "print(f1_score(y_test,predictions))\n",
    "print(recall_score(y_test,predictions))\n",
    "print(precision_score(y_test,predictions))\n",
    "print(confusion_matrix(y_test,predictions))"
   ]
  },
  {
   "cell_type": "code",
   "execution_count": 64,
   "metadata": {},
   "outputs": [],
   "source": [
    "import pickle\n",
    "with open('model.pkl','wb') as file:\n",
    "    pickle.dump(ds,file)\n",
    "\n",
    "\n",
    "# Load the model from the pickle file\n",
    "with open('model.pkl', 'rb') as file:\n",
    "    loaded_model = pickle.load(file)\n",
    "\n",
    "# Make predictions with the loaded model\n",
    "predictions = loaded_model.predict(X_test)\n"
   ]
  },
  {
   "cell_type": "code",
   "execution_count": 65,
   "metadata": {},
   "outputs": [
    {
     "data": {
      "text/plain": [
       "array([0, 1, 0, 1, 1, 0, 0, 0, 1, 0, 0, 0, 1, 1, 0, 0, 0, 0, 0, 0, 1, 1,\n",
       "       1, 0, 0, 0, 0, 0, 0, 0, 0, 0, 0, 0, 0, 0, 0, 0, 0, 0, 0, 0, 0, 0,\n",
       "       0, 0, 0, 0, 0, 0, 0, 0, 0, 0, 1, 0, 0, 0, 0, 1, 1, 0, 0, 0, 1, 0,\n",
       "       0, 0, 0, 0, 0, 0, 0, 0, 0, 0, 0, 0, 0, 0, 0, 0, 0, 0, 1, 1, 0, 1,\n",
       "       0, 1, 0, 0, 0, 0, 0, 0, 0, 0, 0, 1, 0, 0, 1, 1, 0, 1, 1, 0, 0, 0,\n",
       "       1, 0, 0, 0, 0, 0, 0, 0, 1, 0, 0, 0, 0, 0, 0, 0, 0, 0, 0, 0, 0, 0,\n",
       "       0, 0, 1, 0, 1, 0, 0, 0, 0, 1, 0, 0, 0, 0, 0, 0, 0, 0, 0, 0, 0, 0,\n",
       "       0, 0, 0, 0, 0, 0, 1, 0, 0, 0, 0, 0, 1, 0, 0, 0, 0, 0, 0, 0, 0, 0,\n",
       "       0, 0, 1, 1, 0, 0, 1, 1, 0, 0, 0, 0, 0, 0, 0, 0, 1, 0, 0, 0, 0, 1,\n",
       "       0, 0], dtype=int64)"
      ]
     },
     "execution_count": 65,
     "metadata": {},
     "output_type": "execute_result"
    }
   ],
   "source": [
    "predictions"
   ]
  },
  {
   "cell_type": "code",
   "execution_count": 67,
   "metadata": {},
   "outputs": [],
   "source": [
    "lst = df.head(1)"
   ]
  },
  {
   "cell_type": "code",
   "execution_count": 70,
   "metadata": {},
   "outputs": [
    {
     "data": {
      "text/plain": [
       "array([0], dtype=int64)"
      ]
     },
     "execution_count": 70,
     "metadata": {},
     "output_type": "execute_result"
    }
   ],
   "source": [
    "loaded_model.predict(preprocessor.transform(lst))"
   ]
  },
  {
   "cell_type": "code",
   "execution_count": 96,
   "metadata": {},
   "outputs": [
    {
     "data": {
      "text/html": [
       "<div>\n",
       "<style scoped>\n",
       "    .dataframe tbody tr th:only-of-type {\n",
       "        vertical-align: middle;\n",
       "    }\n",
       "\n",
       "    .dataframe tbody tr th {\n",
       "        vertical-align: top;\n",
       "    }\n",
       "\n",
       "    .dataframe thead th {\n",
       "        text-align: right;\n",
       "    }\n",
       "</style>\n",
       "<table border=\"1\" class=\"dataframe\">\n",
       "  <thead>\n",
       "    <tr style=\"text-align: right;\">\n",
       "      <th></th>\n",
       "      <th>name</th>\n",
       "      <th>rollno</th>\n",
       "    </tr>\n",
       "  </thead>\n",
       "  <tbody>\n",
       "    <tr>\n",
       "      <th>0</th>\n",
       "      <td>ehtesham</td>\n",
       "      <td>31</td>\n",
       "    </tr>\n",
       "  </tbody>\n",
       "</table>\n",
       "</div>"
      ],
      "text/plain": [
       "       name  rollno\n",
       "0  ehtesham      31"
      ]
     },
     "execution_count": 96,
     "metadata": {},
     "output_type": "execute_result"
    }
   ],
   "source": [
    "dct = {\n",
    "    'name':['ehtesham'],\n",
    "    'rollno':[31]\n",
    "}\n",
    "pd.DataFrame(dct)"
   ]
  },
  {
   "cell_type": "code",
   "execution_count": 101,
   "metadata": {},
   "outputs": [
    {
     "data": {
      "text/plain": [
       "['ehtesham']"
      ]
     },
     "execution_count": 101,
     "metadata": {},
     "output_type": "execute_result"
    }
   ],
   "source": [
    "dct['name']"
   ]
  },
  {
   "cell_type": "code",
   "execution_count": null,
   "metadata": {},
   "outputs": [],
   "source": []
  }
 ],
 "metadata": {
  "kernelspec": {
   "display_name": "pycaret-env-global",
   "language": "python",
   "name": "python3"
  },
  "language_info": {
   "codemirror_mode": {
    "name": "ipython",
    "version": 3
   },
   "file_extension": ".py",
   "mimetype": "text/x-python",
   "name": "python",
   "nbconvert_exporter": "python",
   "pygments_lexer": "ipython3",
   "version": "3.11.11"
  }
 },
 "nbformat": 4,
 "nbformat_minor": 2
}
